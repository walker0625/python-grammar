{
 "cells": [
  {
   "cell_type": "markdown",
   "metadata": {},
   "source": [
    "# 1. 함수"
   ]
  },
  {
   "cell_type": "markdown",
   "metadata": {},
   "source": [
    "## 1) 표현"
   ]
  },
  {
   "cell_type": "code",
   "execution_count": 6,
   "metadata": {},
   "outputs": [
    {
     "name": "stdout",
     "output_type": "stream",
     "text": [
      "hi\n"
     ]
    }
   ],
   "source": [
    "def hello():\n",
    "    return 'hi'\n",
    "    \n",
    "print(txt)"
   ]
  },
  {
   "cell_type": "markdown",
   "metadata": {},
   "source": [
    "## 2) 매개변수"
   ]
  },
  {
   "cell_type": "code",
   "execution_count": 35,
   "metadata": {},
   "outputs": [
    {
     "name": "stdout",
     "output_type": "stream",
     "text": [
      "add\n",
      "3\n",
      "add\n",
      "3\n",
      "add\n",
      "3\n",
      "add\n",
      "3\n",
      "add\n",
      "details :  None\n",
      "3\n",
      "add\n",
      "details :  test\n",
      "3\n"
     ]
    }
   ],
   "source": [
    "def cal_add1(x, y, s):\n",
    "    print(s)\n",
    "    return x + y\n",
    "\n",
    "# 일종의 주석처리 : 동작과는 관계 없음\n",
    "def cal_add2(x:int, y:int, s:str) -> int:\n",
    "    print(s)\n",
    "    return x + y\n",
    "\n",
    "# 기본값 설정\n",
    "def cal_add3(x:int, y:int, s:str='add') -> int:\n",
    "    print(s)\n",
    "    return x + y\n",
    "\n",
    "def cal_add4(x:int, y:int, s:str='add', details=None) -> int:\n",
    "    print(s)\n",
    "    print('details : ', details)\n",
    "    return x + y    \n",
    "\n",
    "############################################################\n",
    "\n",
    "print(cal_add1(1, 2, 'add'))    \n",
    "print(cal_add2(1, 2, 'add'))    \n",
    "\n",
    "print(cal_add3(1, 2)) # 기본값 처리\n",
    "print(cal_add3(y=2, s='add', x=1)) # parameter 명을 적어주면 순서 자유   \n",
    "\n",
    "print(cal_add4(1, 2, 'add'))\n",
    "print(cal_add4(1, 2, 'add', 'test'))\n"
   ]
  },
  {
   "cell_type": "code",
   "execution_count": 33,
   "metadata": {},
   "outputs": [
    {
     "name": "stdout",
     "output_type": "stream",
     "text": [
      "60.0\n",
      "name : minwoo\n",
      "score : 100\n"
     ]
    }
   ],
   "source": [
    "def cal_average(*args): # parameter 수를 알 수 없을때\n",
    "    return sum(args) / len(args)\n",
    "\n",
    "def dic_print(**kwargs): # 들어오는 parameter를 dic 처리\n",
    "    for key, value in kwargs.items():\n",
    "        print(f'{key} : {value}') \n",
    "\n",
    "print(cal_average(30, 60, 90))\n",
    "\n",
    "dic_print(name = 'minwoo', score = 100)"
   ]
  },
  {
   "cell_type": "markdown",
   "metadata": {},
   "source": [
    "## 3) lambda 함수"
   ]
  },
  {
   "cell_type": "code",
   "execution_count": null,
   "metadata": {},
   "outputs": [
    {
     "name": "stdout",
     "output_type": "stream",
     "text": [
      "3\n"
     ]
    }
   ],
   "source": [
    "calc_add = lambda x, y : x + y # 변수값 : 반환값\n",
    "print(calc_add(1, 2))"
   ]
  },
  {
   "cell_type": "code",
   "execution_count": null,
   "metadata": {},
   "outputs": [
    {
     "name": "stdout",
     "output_type": "stream",
     "text": [
      "{'노트북': 1200000, '모니터': 290000}\n"
     ]
    }
   ],
   "source": [
    "# 15만원 이상인 상품들만 딕셔너리로 만들고 싶어요\n",
    "wishlist = {\"노트북\": 1200000, \"마우스\": 33000, \"키보드\": 110000, \"모니터\": 290000}\n",
    "\n",
    "new_dict = {}\n",
    "\n",
    "for k, v in wishlist.items():\n",
    "    if v > 150000:\n",
    "        new_dict[k] = v\n",
    "\n",
    "print(new_dict)        "
   ]
  },
  {
   "cell_type": "code",
   "execution_count": null,
   "metadata": {},
   "outputs": [],
   "source": [
    "# 15만원 이상인 상품들만 딕셔너리로 만들고 싶어요\n",
    "wishlist = {\"노트북\": 1200000, \"마우스\": 33000, \"키보드\": 110000, \"모니터\": 290000}\n",
    "\n",
    "new_dict = {k:v for k, v in wishlist.items() if v > 150000}\n",
    "\n",
    "print(new_dict)"
   ]
  },
  {
   "cell_type": "markdown",
   "metadata": {},
   "source": [
    "# 2. 파일 읽기/쓰기"
   ]
  },
  {
   "cell_type": "markdown",
   "metadata": {},
   "source": [
    "## 1) os"
   ]
  },
  {
   "cell_type": "code",
   "execution_count": 47,
   "metadata": {},
   "outputs": [
    {
     "name": "stdout",
     "output_type": "stream",
     "text": [
      "c:\\walker\\code\\python-grammar\n"
     ]
    }
   ],
   "source": [
    "import os\n",
    "import numpy as np\n",
    "# from A import B A.B.func()\n",
    "\n",
    "print(os.getcwd()) # 현재 경로\n",
    "#print(os.mkdir('test'))\n"
   ]
  },
  {
   "cell_type": "markdown",
   "metadata": {},
   "source": [
    "## 2) 파일 생성/읽기/추가"
   ]
  },
  {
   "cell_type": "markdown",
   "metadata": {},
   "source": [
    "### 생성/읽기"
   ]
  },
  {
   "cell_type": "code",
   "execution_count": 75,
   "metadata": {},
   "outputs": [
    {
     "name": "stdout",
     "output_type": "stream",
     "text": [
      "hello\n"
     ]
    }
   ],
   "source": [
    "import os\n",
    "import shutil as sh\n",
    "\n",
    "os.mkdir('data')\n",
    "\n",
    "with open('data/test.txt', 'w', encoding='utf-8') as f:\n",
    "    f.write('hi')\n",
    "\n",
    "# 덮어쓰기로 동작 -> 'hi' 날아감\n",
    "with open('data/test.txt', 'w', encoding='utf-8') as f:\n",
    "    f.write('hello')\n",
    "\n",
    "with open('data/test.txt', 'r', encoding='utf-8') as f:\n",
    "    content = f.read()\n",
    "\n",
    "print(content)      \n",
    "\n",
    "sh.rmtree('data')"
   ]
  },
  {
   "cell_type": "markdown",
   "metadata": {},
   "source": [
    "### 추가"
   ]
  },
  {
   "cell_type": "code",
   "execution_count": 73,
   "metadata": {},
   "outputs": [
    {
     "name": "stdout",
     "output_type": "stream",
     "text": [
      "hello\n",
      "minwoo\n",
      "1\n",
      "2\n",
      "3\n",
      "\n"
     ]
    }
   ],
   "source": [
    "import os\n",
    "import shutil as sh\n",
    "\n",
    "os.mkdir('data')\n",
    "\n",
    "with open('data/test.txt', 'w', encoding='utf-8') as f:\n",
    "    f.write('hello')\n",
    "\n",
    "with open('data/test.txt', 'a', encoding='utf-8') as f:\n",
    "    f.write('\\nminwoo\\n')\n",
    "\n",
    "\n",
    "datas = [1,2,3]\n",
    "\n",
    "with open('data/test.txt', 'a', encoding='utf-8') as f:\n",
    "    for i in datas:\n",
    "        f.write(str(i) + '\\n')\n",
    "\n",
    "with open('data/test.txt', 'r', encoding='utf-8') as f:\n",
    "    content = f.read()        \n",
    "\n",
    "print(content) \n",
    "   \n",
    "sh.rmtree('data')\n"
   ]
  },
  {
   "cell_type": "markdown",
   "metadata": {},
   "source": [
    "# 3. 예외 처리"
   ]
  },
  {
   "cell_type": "code",
   "execution_count": 90,
   "metadata": {},
   "outputs": [
    {
     "name": "stdout",
     "output_type": "stream",
     "text": [
      "ZeroDivisionError\n",
      "-----------------------\n",
      "division by zero\n",
      "ZeroDivisionError\n"
     ]
    }
   ],
   "source": [
    "def devide(x,y):\n",
    "    return x / y\n",
    "\n",
    "try :\n",
    "    devide(1,0)\n",
    "except ZeroDivisionError :\n",
    "    print('ZeroDivisionError')\n",
    "except :\n",
    "    print('Global Error')\n",
    "\n",
    "print('-----------------------')\n",
    "\n",
    "try :\n",
    "    devide(1,0)\n",
    "except Exception as e:\n",
    "    print(e)\n",
    "    print(type(e).__name__)\n"
   ]
  }
 ],
 "metadata": {
  "kernelspec": {
   "display_name": "python-grammar",
   "language": "python",
   "name": "python3"
  },
  "language_info": {
   "codemirror_mode": {
    "name": "ipython",
    "version": 3
   },
   "file_extension": ".py",
   "mimetype": "text/x-python",
   "name": "python",
   "nbconvert_exporter": "python",
   "pygments_lexer": "ipython3",
   "version": "3.13.5"
  }
 },
 "nbformat": 4,
 "nbformat_minor": 2
}
