{
 "cells": [
  {
   "cell_type": "markdown",
   "metadata": {
    "id": "rykO60mofpWR"
   },
   "source": [
    "# 1. 변수"
   ]
  },
  {
   "cell_type": "code",
   "execution_count": 1,
   "metadata": {},
   "outputs": [
    {
     "name": "stdout",
     "output_type": "stream",
     "text": [
      "test\n",
      "전민우\n"
     ]
    }
   ],
   "source": [
    "print('test')\n",
    "\n",
    "name = '전민우'\n",
    "birth_year = 1990\n",
    "\n",
    "print(name)"
   ]
  },
  {
   "cell_type": "code",
   "execution_count": 2,
   "metadata": {},
   "outputs": [
    {
     "name": "stdout",
     "output_type": "stream",
     "text": [
      "1990\n"
     ]
    }
   ],
   "source": [
    "print(birth_year)"
   ]
  },
  {
   "cell_type": "code",
   "execution_count": 6,
   "metadata": {},
   "outputs": [
    {
     "name": "stdout",
     "output_type": "stream",
     "text": [
      "전민우 1990\n"
     ]
    }
   ],
   "source": [
    "print(name, birth_year)"
   ]
  },
  {
   "cell_type": "markdown",
   "metadata": {
    "id": "wUlzBbEmfpWT"
   },
   "source": [
    "# 3. 자료형"
   ]
  },
  {
   "cell_type": "markdown",
   "metadata": {
    "id": "msOAV5snfpWU"
   },
   "source": [
    "## 1) 숫자형"
   ]
  },
  {
   "cell_type": "markdown",
   "metadata": {
    "id": "VNzBbeEefpWU"
   },
   "source": [
    "### (1) 표현"
   ]
  },
  {
   "cell_type": "code",
   "execution_count": 7,
   "metadata": {},
   "outputs": [
    {
     "name": "stdout",
     "output_type": "stream",
     "text": [
      "<class 'int'>\n",
      "<class 'float'>\n",
      "30000000000\n",
      "3.14 -2.5 1e-08 10000000000.0\n"
     ]
    }
   ],
   "source": [
    "# 정수\n",
    "\n",
    "x = 1\n",
    "print(type(x))\n",
    "\n",
    "f = 1.0\n",
    "print(type(f))\n",
    "\n",
    "money = 30_000_000_000\n",
    "print(money)\n",
    "\n",
    "# 실수\n",
    "\n",
    "a = 3.14\n",
    "b = -2.5\n",
    "c = 0.00000001 # 1e-08\n",
    "d = 1e+10 \n",
    "print(a, b, c, d)"
   ]
  },
  {
   "cell_type": "markdown",
   "metadata": {
    "id": "qArKs0K3fpWU"
   },
   "source": [
    "### (2) 산술/복합 연산"
   ]
  },
  {
   "cell_type": "code",
   "execution_count": 8,
   "metadata": {},
   "outputs": [
    {
     "name": "stdout",
     "output_type": "stream",
     "text": [
      "<class 'float'>\n",
      "남은 몫 : 4.0\n"
     ]
    }
   ],
   "source": [
    "div = 12 / 3\n",
    "\n",
    "# 나눈 몫은 실수(4.0)\n",
    "\n",
    "print(type(div))\n",
    "print(\"남은 몫 :\", div)"
   ]
  },
  {
   "cell_type": "markdown",
   "metadata": {
    "id": "5zVloo50fpWU"
   },
   "source": [
    "### (3) 예제"
   ]
  },
  {
   "cell_type": "markdown",
   "metadata": {
    "id": "xRKpBRBKfpWU"
   },
   "source": [
    "반복할 횟수 구하기: 100개의 게시물을 한 페이지에 30개씩 보여주려면 총 몇 페이지가 필요할까요?"
   ]
  },
  {
   "cell_type": "code",
   "execution_count": 36,
   "metadata": {
    "id": "tYff6S7DfpWV"
   },
   "outputs": [
    {
     "name": "stdout",
     "output_type": "stream",
     "text": [
      "4\n"
     ]
    }
   ],
   "source": [
    "content = 100\n",
    "size = 30\n",
    "\n",
    "page = content // size\n",
    "rest = content % size\n",
    "\n",
    "if(rest > 0) :\n",
    "    page += 1\n",
    "\n",
    "print(page)"
   ]
  },
  {
   "cell_type": "markdown",
   "metadata": {
    "id": "6zj1iSwefpWV"
   },
   "source": [
    "출생년도가 1982일 때 홀수, 짝수 판단하기"
   ]
  },
  {
   "cell_type": "code",
   "execution_count": null,
   "metadata": {
    "id": "A0Hb8prSfpWV"
   },
   "outputs": [
    {
     "name": "stdout",
     "output_type": "stream",
     "text": [
      "0\n"
     ]
    }
   ],
   "source": [
    "birth_year = 1982\n",
    "result = birth_year%2 \n",
    "\n",
    "print(result)"
   ]
  },
  {
   "cell_type": "markdown",
   "metadata": {
    "id": "BxNz_w8zfpWV"
   },
   "source": [
    "## 2) ⭐ 문자열"
   ]
  },
  {
   "cell_type": "markdown",
   "metadata": {
    "id": "g5c456kQfpWV"
   },
   "source": [
    "### (1) 표현"
   ]
  },
  {
   "cell_type": "code",
   "execution_count": null,
   "metadata": {},
   "outputs": [
    {
     "name": "stdout",
     "output_type": "stream",
     "text": [
      "test\n",
      "<class 'str'>\n",
      "i'm fine\n",
      "i'm fine\n",
      "나는\n",
      "괜찮아\n",
      "\n",
      "나는\n",
      "괜찮아\n",
      "\n"
     ]
    }
   ],
   "source": [
    "message = 'test'\n",
    "\n",
    "print(message)\n",
    "print(type(message))\n",
    "\n",
    "text = 'i\\'m fine'\n",
    "\n",
    "print(text)\n",
    "\n",
    "text2 = \"i'm fine\"\n",
    "\n",
    "print(text2)\n",
    "\n",
    "text3 = '나는\\n괜찮아'\n",
    "\n",
    "print(text3)\n",
    "\n",
    "text3 = \"\"\"\n",
    "나는\n",
    "괜찮아\n",
    "\"\"\"\n",
    "\n",
    "print(text3)\n"
   ]
  },
  {
   "cell_type": "markdown",
   "metadata": {
    "id": "toneTdjWfpWV"
   },
   "source": [
    "### (2) 연산"
   ]
  },
  {
   "cell_type": "code",
   "execution_count": null,
   "metadata": {},
   "outputs": [
    {
     "name": "stdout",
     "output_type": "stream",
     "text": [
      "안녕안녕안녕민우\n",
      "2\n",
      "  test  \n",
      "test\n"
     ]
    }
   ],
   "source": [
    "hello = '안녕'\n",
    "name = '민우'\n",
    "\n",
    "print(hello*3 + name)\n",
    "print(len(name))\n",
    "\n",
    "textss = '  test  '\n",
    "\n",
    "print(textss)\n",
    "print(textss.strip())"
   ]
  },
  {
   "cell_type": "markdown",
   "metadata": {
    "id": "hUBJ8gzffpWW"
   },
   "source": [
    "### (3) 인덱싱/슬라이싱"
   ]
  },
  {
   "cell_type": "code",
   "execution_count": null,
   "metadata": {},
   "outputs": [
    {
     "name": "stdout",
     "output_type": "stream",
     "text": [
      "900625\n",
      "4\n",
      "male\n",
      "0625\n"
     ]
    },
    {
     "data": {
      "text/plain": [
       "'jon'"
      ]
     },
     "execution_count": 3,
     "metadata": {},
     "output_type": "execute_result"
    }
   ],
   "source": [
    "p_number = '900625-1183214'\n",
    "\n",
    "result = p_number[:6]\n",
    "tt = p_number[7]\n",
    "last = p_number[-1]\n",
    "\n",
    "gender = 'male' if p_number[7] == '1' else 'female'\n",
    "\n",
    "print(result)\n",
    "print(last)\n",
    "print(gender)\n",
    "print(p_number[-12:-8])"
   ]
  },
  {
   "cell_type": "markdown",
   "metadata": {
    "id": "y6mwyMTAfpWW"
   },
   "source": [
    "#### 슬라이싱"
   ]
  },
  {
   "cell_type": "markdown",
   "metadata": {
    "id": "pdb-uQGQfpWW"
   },
   "source": [
    "문제. 주민등번호 뒷자리에서 성별을 제외하고 *로 표시해주세요."
   ]
  },
  {
   "cell_type": "code",
   "execution_count": null,
   "metadata": {
    "id": "d5Tm04Y7fpWW"
   },
   "outputs": [
    {
     "name": "stdout",
     "output_type": "stream",
     "text": [
      "900625-1******\n",
      "900625-1******\n"
     ]
    }
   ],
   "source": [
    "p_number = '900625-1183214'\n",
    "\n",
    "print(p_number[:8] + '******')\n",
    "print(p_number[:8] + '*'*6)"
   ]
  },
  {
   "cell_type": "markdown",
   "metadata": {
    "id": "gATEkKPQfpWW"
   },
   "source": [
    "### (4) 문자열 포매팅(f-string)"
   ]
  },
  {
   "cell_type": "code",
   "execution_count": null,
   "metadata": {
    "id": "NYRqG_0QfpWW"
   },
   "outputs": [
    {
     "name": "stdout",
     "output_type": "stream",
     "text": [
      "minwoo님 안녕하세요\n"
     ]
    }
   ],
   "source": [
    "name = 'minwoo'\n",
    "hello = f'{name}님 안녕하세요'\n",
    "\n",
    "print(hello)"
   ]
  },
  {
   "cell_type": "markdown",
   "metadata": {
    "id": "JeI53FmcfpWW"
   },
   "source": [
    "### (5) 관련 메서드"
   ]
  },
  {
   "cell_type": "markdown",
   "metadata": {
    "id": "2kO-FpdCfpWW"
   },
   "source": [
    "#### ⭐ 문자열 나누기(split)"
   ]
  },
  {
   "cell_type": "code",
   "execution_count": null,
   "metadata": {
    "id": "UjuLhug4fpWW"
   },
   "outputs": [
    {
     "name": "stdout",
     "output_type": "stream",
     "text": [
      "광진구\n"
     ]
    }
   ],
   "source": [
    "join = '강남구,광진구,서초구'\n",
    "array = join.split(',')\n",
    "\n",
    "print(array[1])"
   ]
  },
  {
   "cell_type": "markdown",
   "metadata": {
    "id": "O7SkuuYafpWW"
   },
   "source": [
    "예제. 파일 확장자 찾기"
   ]
  },
  {
   "cell_type": "code",
   "execution_count": null,
   "metadata": {
    "id": "8HHL8hmKfpWW"
   },
   "outputs": [
    {
     "name": "stdout",
     "output_type": "stream",
     "text": [
      "txt\n"
     ]
    }
   ],
   "source": [
    "file = 'test.txt'\n",
    "\n",
    "print(file.split('.')[1])"
   ]
  },
  {
   "cell_type": "markdown",
   "metadata": {
    "id": "9AbgJyKYfpWW"
   },
   "source": [
    "#### 문자열 대체(replace)"
   ]
  },
  {
   "cell_type": "code",
   "execution_count": null,
   "metadata": {
    "id": "vdNBt5V5fpWW"
   },
   "outputs": [
    {
     "name": "stdout",
     "output_type": "stream",
     "text": [
      "minwoo@naver.com\n"
     ]
    }
   ],
   "source": [
    "email = 'jmw@naver.com'\n",
    "email = email.replace('jmw', 'minwoo')\n",
    "\n",
    "print(email)"
   ]
  },
  {
   "cell_type": "markdown",
   "metadata": {
    "id": "WcpA-035fpWW"
   },
   "source": [
    "#### 대/소문자 변환(lower, upper)"
   ]
  },
  {
   "cell_type": "code",
   "execution_count": null,
   "metadata": {
    "id": "BtobhPadfpWW"
   },
   "outputs": [
    {
     "name": "stdout",
     "output_type": "stream",
     "text": [
      "mmffffm\n"
     ]
    }
   ],
   "source": [
    "gender = 'mmffFFm'\n",
    "gender = gender.lower()\n",
    "\n",
    "print(gender)"
   ]
  },
  {
   "cell_type": "markdown",
   "metadata": {
    "id": "9_t2Lzt6fpWW"
   },
   "source": [
    "#### 공백 제거(lstrip/rstrip/strip)"
   ]
  },
  {
   "cell_type": "code",
   "execution_count": 14,
   "metadata": {
    "id": "NSZRjfk2fpWW"
   },
   "outputs": [
    {
     "name": "stdout",
     "output_type": "stream",
     "text": [
      "test\n",
      "test   \n",
      "   test\n"
     ]
    }
   ],
   "source": [
    "blank = '   test   '\n",
    "\n",
    "print(blank.strip())\n",
    "print(blank.lstrip())\n",
    "print(blank.rstrip())"
   ]
  },
  {
   "cell_type": "markdown",
   "metadata": {
    "id": "MDmVNNmlfpWX"
   },
   "source": [
    "#### 카운트 세기(count)"
   ]
  },
  {
   "cell_type": "code",
   "execution_count": null,
   "metadata": {
    "id": "4OabxfPpfpWX"
   },
   "outputs": [
    {
     "name": "stdout",
     "output_type": "stream",
     "text": [
      "3\n"
     ]
    }
   ],
   "source": [
    "gender = 'mmffFFm'\n",
    "gender = gender.lower()\n",
    "\n",
    "print(gender.count('m'))"
   ]
  },
  {
   "cell_type": "markdown",
   "metadata": {
    "id": "TcBsq-A4fpWX"
   },
   "source": [
    "예제. 리뷰\n",
    "\n",
    "짬뽕은 정말 맵고 맛있었어요. 해산물이 가득 들어가서 만족했습니다.\n",
    "짜장면은 이 집에서 먹어본 것 중 가장 맛있었어요\n",
    "짜장면 굿"
   ]
  },
  {
   "cell_type": "code",
   "execution_count": 17,
   "metadata": {
    "id": "dU5G3cEufpWX"
   },
   "outputs": [
    {
     "name": "stdout",
     "output_type": "stream",
     "text": [
      "2\n"
     ]
    }
   ],
   "source": [
    "menu = '''\n",
    "짬뽕은 정말 맵고 맛있었어요. 해산물이 가득 들어가서 만족했습니다.\n",
    "짜장면은 이 집에서 먹어본 것 중 가장 맛있었어요\n",
    "짜장면 굿\n",
    "'''\n",
    "\n",
    "print(menu.count('짜장면'))"
   ]
  },
  {
   "cell_type": "markdown",
   "metadata": {
    "id": "32pY-NGFfpWX"
   },
   "source": [
    "## 3) 리스트(List)"
   ]
  },
  {
   "cell_type": "markdown",
   "metadata": {
    "id": "wZ5yZQH-fpWX"
   },
   "source": [
    "### (1) 표현"
   ]
  },
  {
   "cell_type": "code",
   "execution_count": 22,
   "metadata": {
    "id": "HA86_T3JfpWX"
   },
   "outputs": [
    {
     "name": "stdout",
     "output_type": "stream",
     "text": [
      "3\n",
      "<class 'list'>\n"
     ]
    }
   ],
   "source": [
    "mylist = [1,2,3,4,5]\n",
    "\n",
    "print(mylist[2])\n",
    "print(type(mylist))"
   ]
  },
  {
   "cell_type": "code",
   "execution_count": null,
   "metadata": {},
   "outputs": [
    {
     "name": "stdout",
     "output_type": "stream",
     "text": [
      "1000\n"
     ]
    }
   ],
   "source": [
    "income = [100, 300, 600]\n",
    "\n",
    "print(sum(income))"
   ]
  },
  {
   "cell_type": "code",
   "execution_count": 31,
   "metadata": {},
   "outputs": [
    {
     "name": "stdout",
     "output_type": "stream",
     "text": [
      "2\n"
     ]
    }
   ],
   "source": [
    "arr = [1, 2, 3, '1', (1, 2), {1 : 2}, {'3' : 4}]\n",
    "\n",
    "print(arr[5][1])\n"
   ]
  },
  {
   "cell_type": "markdown",
   "metadata": {
    "id": "MJ0aiHRifpWX"
   },
   "source": [
    "### (2) 인덱싱/슬라이싱"
   ]
  },
  {
   "cell_type": "markdown",
   "metadata": {
    "id": "-4z5eF4FfpWX"
   },
   "source": [
    "#### 인덱싱"
   ]
  },
  {
   "cell_type": "markdown",
   "metadata": {
    "id": "FYU_bl_6fpWb"
   },
   "source": [
    "#### 슬라이싱"
   ]
  },
  {
   "cell_type": "markdown",
   "metadata": {
    "id": "M5-urS5_fpWb"
   },
   "source": [
    "예제.\n",
    "\n",
    "```\n",
    "data = [25, \"apple\", 3.13, [\"dog\", \"cat\", \"rabbit\"]]\n",
    "```\n",
    "\n",
    "* \"cat\" 출력"
   ]
  },
  {
   "cell_type": "code",
   "execution_count": 39,
   "metadata": {
    "id": "CQTMPPw-fpWb"
   },
   "outputs": [
    {
     "name": "stdout",
     "output_type": "stream",
     "text": [
      "cat\n",
      "cat\n"
     ]
    }
   ],
   "source": [
    "data = [25, \"apple\", 3.13, [\"dog\", \"cat\", \"rabbit\"]]\n",
    "\n",
    "print(data[3][1])\n",
    "print(data[-1][1])"
   ]
  },
  {
   "cell_type": "markdown",
   "metadata": {
    "id": "aG4ATJ-HfpWb"
   },
   "source": [
    "예제.\n",
    "\n",
    "```\n",
    "data = [25, 'apple', 3.13, ['dog', 'cat', 'rabbit']]\n",
    "```\n",
    "\n",
    "* ['dog', 'cat'] 출력"
   ]
  },
  {
   "cell_type": "code",
   "execution_count": 40,
   "metadata": {
    "id": "9UwRH5WafpWb"
   },
   "outputs": [
    {
     "name": "stdout",
     "output_type": "stream",
     "text": [
      "dog cat\n",
      "['dog', 'cat']\n",
      "['dog', 'cat']\n",
      "dog cat\n",
      "['dog', 'cat']\n",
      "['dog', 'cat']\n"
     ]
    }
   ],
   "source": [
    "data = [25, \"apple\", 3.13, [\"dog\", \"cat\", \"rabbit\"]]\n",
    "\n",
    "print(data[3][0], data[3][1])\n",
    "print(data[3][0:2])\n",
    "print(data[3][:2])\n",
    "\n",
    "print(data[-1][0], data[3][1])\n",
    "print(data[-1][0:2])\n",
    "print(data[-1][:2])"
   ]
  },
  {
   "cell_type": "markdown",
   "metadata": {
    "id": "1I_5wkFhfpWb"
   },
   "source": [
    "### (2) 연산"
   ]
  },
  {
   "cell_type": "markdown",
   "metadata": {
    "id": "ESRph4l8fpWc"
   },
   "source": [
    "#### 덧셈"
   ]
  },
  {
   "cell_type": "code",
   "execution_count": null,
   "metadata": {},
   "outputs": [
    {
     "name": "stdout",
     "output_type": "stream",
     "text": [
      "[1, 2, 3, '1', '2', '3']\n",
      "12\n"
     ]
    }
   ],
   "source": [
    "arr1 = [1, 2, 3]\n",
    "arr2 = ['1', '2', '3']\n",
    "\n",
    "print(arr1 + arr2)\n",
    "\n",
    "jan =[1, 2, 3]\n",
    "fab =[1, 2, 3] \n",
    "\n",
    "print(sum(jan+fab))"
   ]
  },
  {
   "cell_type": "markdown",
   "metadata": {
    "id": "BbGZBaetfpWc"
   },
   "source": [
    "#### 곱셈"
   ]
  },
  {
   "cell_type": "code",
   "execution_count": 44,
   "metadata": {},
   "outputs": [
    {
     "name": "stdout",
     "output_type": "stream",
     "text": [
      "[1, 2, 3, 1, 2, 3, 1, 2, 3]\n"
     ]
    }
   ],
   "source": [
    "arr = [1,2,3]\n",
    "\n",
    "print(arr * 3)"
   ]
  },
  {
   "cell_type": "markdown",
   "metadata": {
    "id": "qpxQzhmbfpWc"
   },
   "source": [
    "### (3) range"
   ]
  },
  {
   "cell_type": "code",
   "execution_count": null,
   "metadata": {},
   "outputs": [
    {
     "name": "stdout",
     "output_type": "stream",
     "text": [
      "[3, 4, 5, 6, 7, 8, 9]\n",
      "[2, 4, 6, 8, 10]\n",
      "[5, 4, 3, 2, 1, 0]\n"
     ]
    }
   ],
   "source": [
    "print(list(range(3, 10))) # start / end-1 / step\n",
    "\n",
    "print(list(range(2, 11, 2)))\n",
    "\n",
    "print(list(range(5, -1, -1)))"
   ]
  },
  {
   "cell_type": "markdown",
   "metadata": {
    "id": "cUcxDoQtfpWc"
   },
   "source": [
    "### (4) 수정/추가/삭제"
   ]
  },
  {
   "cell_type": "markdown",
   "metadata": {
    "id": "eYSBz_UVfpWc"
   },
   "source": [
    "#### 수정"
   ]
  },
  {
   "cell_type": "code",
   "execution_count": null,
   "metadata": {},
   "outputs": [
    {
     "name": "stdout",
     "output_type": "stream",
     "text": [
      "[10, 10, 10, '하', '하']\n",
      "[0, 1, 2, 3, 4, 5, 6, 7]\n",
      "[0, 1, 2, '하하하', '하하하', '하하하', '하하하', '하하하']\n"
     ]
    }
   ],
   "source": [
    "\n",
    "arr = list(range(8))\n",
    "arr[1] = '일' # 한개 indexing은 한개만 할당\n",
    "arr[5] = '오'\n",
    "arr[2:4] = ['two', 'three']\n",
    "\n",
    "# 슬라이싱(복수)이면, 할당도 복수개 해줘야 함\n",
    "arr[3:] = '하하하' # 문자열은 기본적으로 열로 인식하여 복수개로 인정해줌 '하하하' = '하'*3\n",
    "arr[:4] = [10, 10, 10] # 3개를 슬라이싱하면 3개를 할당 필요\n",
    "\n",
    "print(arr)\n",
    "\n",
    "# 배열 형태로 추가하면 문자열 처리되지 않음\n",
    "arr2 = list(range(8))\n",
    "print(arr2)\n",
    "\n",
    "start_index = 3\n",
    "end_index = 8\n",
    "\n",
    "arr2[3:8] = ['하하하'] * (end_index - start_index) \n",
    "print(arr2)"
   ]
  },
  {
   "cell_type": "markdown",
   "metadata": {
    "id": "gESOTUWxfpWc"
   },
   "source": [
    "#### 추가"
   ]
  },
  {
   "cell_type": "code",
   "execution_count": null,
   "metadata": {},
   "outputs": [
    {
     "name": "stdout",
     "output_type": "stream",
     "text": [
      "[1, 2, 3, 4, 5, 6]\n",
      "[1, 2, 3, 4, 5, 6, 7, 8, 9]\n",
      "[1, 2, 3, 4, 5, 6, 7, 8, 9, 10]\n",
      "[1, 2, 3, 4, 5, 6, 7, 8, 9, 10, [11, 12, 13]]\n",
      "[1, 2, 3, 4, 5, 6, 7, 8, 9, 10, [11, 12, 13], 14, 15, 16]\n",
      "[0, 1, 2, 3, 4, 5, 6, 7, 8, 9, 10, [11, 12, 13], 14, 15, 16]\n"
     ]
    }
   ],
   "source": [
    "arr = [1,2,3,4,5]\n",
    "\n",
    "arr = arr + [6]\n",
    "print(arr)\n",
    "\n",
    "arr = arr + [7,8,9]\n",
    "print(arr)\n",
    "\n",
    "arr.append(10)\n",
    "print(arr)\n",
    "\n",
    "# 배열 그 자체로 추가\n",
    "arr.append([11, 12, 13])\n",
    "print(arr)\n",
    "\n",
    "# 배열의 요소로 각각 추가\n",
    "arr.extend([14, 15, 16])\n",
    "print(arr)\n",
    "\n",
    "# target index 위치에 value 삽입(기존 데이터는 뒤로 밀림)\n",
    "arr.insert(0, 0) # (target, value)\n",
    "print(arr)"
   ]
  },
  {
   "cell_type": "markdown",
   "metadata": {
    "id": "bJ4Jr4egfpWc"
   },
   "source": [
    "#### 삭제"
   ]
  },
  {
   "cell_type": "code",
   "execution_count": 152,
   "metadata": {},
   "outputs": [
    {
     "name": "stdout",
     "output_type": "stream",
     "text": [
      "[0, 10, 30, 40, 50, 60, 70, 80, 90, 100]\n",
      "[0, 10, 30, 40, 50, 60, 80, 90, 100]\n",
      "[0, 10, 30, 40, 50, 60, 80, 100]\n",
      "100\n",
      "[0, 10, 30, 40, 50, 60, 80]\n"
     ]
    }
   ],
   "source": [
    "arr = list(range(0, 101, 10))\n",
    "\n",
    "# index 기준으로 삭제\n",
    "del arr[2]\n",
    "print(arr)\n",
    "\n",
    "# value 기준으로 삭제\n",
    "arr.remove(arr[6])\n",
    "print(arr)\n",
    "\n",
    "arr.remove(arr[-2])\n",
    "print(arr)\n",
    "\n",
    "# pop\n",
    "print(arr.pop())\n",
    "print(arr)"
   ]
  },
  {
   "cell_type": "markdown",
   "metadata": {
    "id": "3jw2_iXffpWc"
   },
   "source": [
    "예제. 게시물 코드 : \"ID003\" 데이터가 문제라 제거 필요\n",
    "\n",
    "```\n",
    "post_data = [\"ID001\", \"ID002\", \"ID003\", \"ID004\", \"ID005\"]\n",
    "```"
   ]
  },
  {
   "cell_type": "code",
   "execution_count": 170,
   "metadata": {
    "id": "TTVODq-pfpWc"
   },
   "outputs": [
    {
     "name": "stdout",
     "output_type": "stream",
     "text": [
      "['ID003']\n"
     ]
    }
   ],
   "source": [
    "post_data = [\"ID001\", \"ID002\", \"ID003\", \"ID004\", \"ID005\"]\n",
    "pop_data = post_data.pop(2)\n",
    "\n",
    "error_data = []\n",
    "error_data.append(pop_data)\n",
    "print(error_data)"
   ]
  },
  {
   "cell_type": "markdown",
   "metadata": {
    "id": "nzrEdhKXfpWc"
   },
   "source": [
    "## 4) 튜플(Tuple) - 읽기 전용(불변)"
   ]
  },
  {
   "cell_type": "markdown",
   "metadata": {
    "id": "k6jpRXd8fpWc"
   },
   "source": [
    "### (1) 표현"
   ]
  },
  {
   "cell_type": "code",
   "execution_count": 165,
   "metadata": {},
   "outputs": [
    {
     "name": "stdout",
     "output_type": "stream",
     "text": [
      "<class 'tuple'>\n"
     ]
    }
   ],
   "source": [
    "tuple = ()\n",
    "print(type(tuple))"
   ]
  },
  {
   "cell_type": "code",
   "execution_count": 175,
   "metadata": {},
   "outputs": [
    {
     "name": "stdout",
     "output_type": "stream",
     "text": [
      "10\n",
      "<class 'int'>\n",
      "<class 'tuple'>\n"
     ]
    }
   ],
   "source": [
    "tuple = (10)\n",
    "print(tuple)\n",
    "print(type(tuple)) # type이 int로 나옴\n",
    "\n",
    "tuple2 = (10,)\n",
    "print(type(tuple2)) # type이 tuple로 나옴"
   ]
  },
  {
   "cell_type": "code",
   "execution_count": 178,
   "metadata": {},
   "outputs": [],
   "source": [
    "fruits = ('apple', 'banana', 'cherry')\n",
    "# fruits[1] = 'test' \n",
    "# del fruits[1]"
   ]
  },
  {
   "cell_type": "markdown",
   "metadata": {
    "id": "bCZYM_W2fpWc"
   },
   "source": [
    "## 5) 딕셔너리(Dictionary)"
   ]
  },
  {
   "cell_type": "markdown",
   "metadata": {
    "id": "iQ82NPU1fpWc"
   },
   "source": [
    "### (1) 표현"
   ]
  },
  {
   "cell_type": "code",
   "execution_count": null,
   "metadata": {},
   "outputs": [
    {
     "name": "stdout",
     "output_type": "stream",
     "text": [
      "<class 'dict'>\n"
     ]
    }
   ],
   "source": [
    "dic = {}\n",
    "print(type(dic))"
   ]
  },
  {
   "cell_type": "markdown",
   "metadata": {
    "id": "hakTc3rjfpWc"
   },
   "source": [
    "### (2) 딕셔너리 다루기"
   ]
  },
  {
   "cell_type": "code",
   "execution_count": 181,
   "metadata": {},
   "outputs": [],
   "source": [
    "# pandas - 특정 카테고리 데이터 일괄 변경\n",
    "score_data1 = {\n",
    "    '이름' : ['t1', 't2'],\n",
    "    '점수' : [10, 20]\n",
    "}\n",
    "\n",
    "# 특정 사람의 점수\n",
    "score_data2 = {\n",
    "    't1' : 10, 't2' : 20\n",
    "}\n",
    "\n",
    "# api(json) - insert/paging 용이\n",
    "score_data3 = [\n",
    "    {'name' : 't1', 'score' : 100}, \n",
    "    {'name' : 't2', 'score' : 200}\n",
    "]"
   ]
  },
  {
   "cell_type": "markdown",
   "metadata": {
    "id": "s2HGu7VwfpWc"
   },
   "source": [
    "예제. 날씨 데이터\n",
    "* 'city'키 'Busan'으로 수정하기\n",
    "* 미세먼지(`pm10`)키 추가하기 (값: 34)\n",
    "* 'forecast' 키에 ['Rainy', 'Rainy'] 추가하기\n",
    "\n",
    "```\n",
    "weather_data = {\n",
    "    'city': 'Seoul',\n",
    "    'temperature': 22.5,  # 섭씨\n",
    "    'humidity': 60,       # 상대 습도(%)\n",
    "    'forecast': ['Sunny', 'Cloudy', 'Rainy']  # 3일 예보\n",
    "}\n",
    "```"
   ]
  },
  {
   "cell_type": "code",
   "execution_count": null,
   "metadata": {
    "id": "w3-dH_uTfpWc"
   },
   "outputs": [
    {
     "name": "stdout",
     "output_type": "stream",
     "text": [
      "{'city': 'busan', 'temperature': 22.5, 'humidity': 60, 'forecast': ['Sunny', 'Cloudy', 'Rainy', 'Rainy', 'Rainy'], 'pm10': 34}\n"
     ]
    }
   ],
   "source": [
    "weather_data = {\n",
    "    'city': 'Seoul',\n",
    "    'temperature': 22.5,  # 섭씨\n",
    "    'humidity': 60,       # 상대 습도(%)\n",
    "    'forecast': ['Sunny', 'Cloudy', 'Rainy']  # 3일 예보\n",
    "}\n",
    "\n",
    "weather_data['city'] = 'busan' # 기존 element 수정\n",
    "weather_data['pm10'] = 34 # element 추가\n",
    "weather_data['forecast'].extend(['Rainy', 'Rainy']) # append()로 하면 배열 자체가 더해짐\n",
    "\n",
    "print(weather_data)"
   ]
  },
  {
   "cell_type": "markdown",
   "metadata": {
    "id": "T1fOPGfffpWd"
   },
   "source": [
    "### (3) 관련 메서드"
   ]
  },
  {
   "cell_type": "markdown",
   "metadata": {
    "id": "xyFqV-k4fpWd"
   },
   "source": [
    "#### 조회"
   ]
  },
  {
   "cell_type": "code",
   "execution_count": null,
   "metadata": {},
   "outputs": [
    {
     "name": "stdout",
     "output_type": "stream",
     "text": [
      "['name', 'age', 'height', 'score']\n",
      "<class 'dict_keys'>\n",
      "['John', 30, 180.7, 30]\n",
      "<class 'dict_values'>\n",
      "[('name', 'John'), ('age', 30), ('height', 180.7), ('score', 30)]\n",
      "<class 'dict_items'>\n",
      "<class 'NoneType'>\n",
      "True\n",
      "False\n",
      "none exist key\n",
      "{'a': 'y', 'b': 'y', 'c': 'y'}\n"
     ]
    }
   ],
   "source": [
    "student = {\"name\": \"John\", \"age\": 30, \"height\" :180.7, \"score\" : 30}\n",
    "\n",
    "print(list(student.keys())) # 권장하는 for 루프 형태 : 순수 list가 아니므로 형변환 권장\n",
    "print(type(student.keys()))\n",
    "\n",
    "print(list(student.values())) \n",
    "print(type(student.values()))\n",
    "\n",
    "print(list(student.items()))\n",
    "print(type(student.items()))\n",
    "\n",
    "#print(student['weight']) # error\n",
    "print(type(student.get('weight'))) # NoneType 결과 (== optional)\n",
    "print(student.get('weight') == None) # True\n",
    "print(student.get('weight') == False) # False ## nullish 개념이 아님\n",
    "print(student.get('weight', 'none exist key')) # 대체값 설정\n",
    "\n",
    "student_list = ['a', 'b', 'c']\n",
    "student_dict = {'a' : 'y'}\n",
    "\n",
    "# 참석하지 않은 사람이 있으면, 참석 목록에 추가하여 참석 상태로 바꿈\n",
    "for s in student_list:\n",
    "    if s not in student_dict:\n",
    "        student_dict[s] = 'y'\n",
    "\n",
    "print(student_dict)        "
   ]
  },
  {
   "cell_type": "markdown",
   "metadata": {
    "id": "NXLo6tYHfpWd"
   },
   "source": [
    "#### 삭제"
   ]
  },
  {
   "cell_type": "code",
   "execution_count": null,
   "metadata": {},
   "outputs": [
    {
     "name": "stdout",
     "output_type": "stream",
     "text": [
      "{}\n"
     ]
    }
   ],
   "source": [
    "p_list = {'a': 'y', 'b': 'y', 'c': 'y'}\n",
    "p_list.clear()\n",
    "print(p_list) # None이 아니라 {} 빈배열"
   ]
  },
  {
   "cell_type": "markdown",
   "metadata": {
    "id": "l8y7gZ80fpWd"
   },
   "source": [
    "## 6) 집합"
   ]
  },
  {
   "cell_type": "markdown",
   "metadata": {
    "id": "NsSD5UjdfpWd"
   },
   "source": [
    "### (1) 표현"
   ]
  },
  {
   "cell_type": "markdown",
   "metadata": {
    "id": "zJqGcyIbfpWd"
   },
   "source": [
    "예제. 이메일 중복 제거\n",
    "\n",
    "```\n",
    "emails = ['user1@example.com','user2@example.com','user1@example.com','user3@example.com','user2@example.com']\n",
    "```"
   ]
  },
  {
   "cell_type": "code",
   "execution_count": 221,
   "metadata": {
    "id": "lmsklubGfpWd"
   },
   "outputs": [
    {
     "name": "stdout",
     "output_type": "stream",
     "text": [
      "{'user2@example.com', 'user1@example.com', 'user3@example.com'}\n",
      "<class 'set'>\n"
     ]
    }
   ],
   "source": [
    "# 중복 제거\n",
    "emails = ['user1@example.com','user2@example.com','user1@example.com','user3@example.com','user2@example.com']\n",
    "email_set = set(emails)\n",
    "\n",
    "print(email_set)\n",
    "print(type(email_set))\n",
    "\n",
    "# print(email_set[0]) # 'set' object is not subscriptable\n"
   ]
  },
  {
   "cell_type": "markdown",
   "metadata": {
    "id": "u3-4s3VbfpWe"
   },
   "source": [
    "### (2) 요소 추가/제거"
   ]
  },
  {
   "cell_type": "markdown",
   "metadata": {
    "id": "-IE7WahqfpWe"
   },
   "source": [
    "#### 추가"
   ]
  },
  {
   "cell_type": "code",
   "execution_count": null,
   "metadata": {
    "id": "ijOunSBsfzf-"
   },
   "outputs": [
    {
     "name": "stdout",
     "output_type": "stream",
     "text": [
      "{1, 2, 3, 4, 5, 6}\n",
      "{1, 2, 3, 4, 5, 6}\n",
      "{1, 2, 3, 4, 5, 6, 7, 8}\n"
     ]
    }
   ],
   "source": [
    "myset = {1,2,3,4,5}\n",
    "\n",
    "myset.add(6)\n",
    "print(myset)\n",
    "\n",
    "myset.add(5) # 중복 추가 불가\n",
    "print(myset)\n",
    "\n",
    "myset.update([4,7,8]) # 복수개 추가\n",
    "print(myset)"
   ]
  },
  {
   "cell_type": "markdown",
   "metadata": {
    "id": "inOzgS8ofpWe"
   },
   "source": [
    "#### 제거"
   ]
  },
  {
   "cell_type": "code",
   "execution_count": null,
   "metadata": {},
   "outputs": [],
   "source": [
    "myset = {1,2,3,4,5}\n",
    "\n",
    "# 제거는 같으나 remove는 없으면 KeyError: 6 발생\n",
    "# myset.remove(6)\n",
    "myset.discard(6) # 유연하게 삭제"
   ]
  },
  {
   "cell_type": "markdown",
   "metadata": {
    "id": "N7sDYPgkfpWe"
   },
   "source": [
    "### (3) 연산"
   ]
  },
  {
   "cell_type": "code",
   "execution_count": 244,
   "metadata": {},
   "outputs": [
    {
     "name": "stdout",
     "output_type": "stream",
     "text": [
      "{1, 2, 3, 4, 5, 6, 7, 8}\n",
      "{4, 5}\n",
      "{1, 2, 3}\n",
      "{1, 2, 3, 6, 7, 8}\n"
     ]
    }
   ],
   "source": [
    "set1 = {1,2,3,4,5}\n",
    "set2 = {4,5,6,7,8}\n",
    "\n",
    "union_set = set1 | set2 # 합집합\n",
    "union_set = set1.union(set2) \n",
    "print(union_set)\n",
    "\n",
    "cross_set = set1 & set2 # 교집합\n",
    "cross_set = set1.intersection(set2)\n",
    "print(cross_set)\n",
    "\n",
    "except_set = set1 - set2 # 차집합\n",
    "except_set = set1.difference(set2)\n",
    "print(except_set)\n",
    "\n",
    "sym_set = set1 ^ set2 # 대칭 차집합(합집합에서 교집합을 뺀 set)\n",
    "sym_set = set1.symmetric_difference(set2)\n",
    "print(sym_set)"
   ]
  },
  {
   "cell_type": "markdown",
   "metadata": {
    "id": "WCXq_UaJfpWe"
   },
   "source": [
    "## 7) Bool"
   ]
  },
  {
   "cell_type": "code",
   "execution_count": null,
   "metadata": {},
   "outputs": [
    {
     "name": "stdout",
     "output_type": "stream",
     "text": [
      "yes!\n",
      "6은 nono\n"
     ]
    }
   ],
   "source": [
    "flag = True\n",
    "\n",
    "if(flag): \n",
    "    print('yes!')\n",
    "\n",
    "num = [1,2,3,4,5]    \n",
    "\n",
    "if 6 not in num:\n",
    "    print('6은 nono')"
   ]
  }
 ],
 "metadata": {
  "colab": {
   "provenance": []
  },
  "kernelspec": {
   "display_name": "python-grammar",
   "language": "python",
   "name": "python3"
  },
  "language_info": {
   "codemirror_mode": {
    "name": "ipython",
    "version": 3
   },
   "file_extension": ".py",
   "mimetype": "text/x-python",
   "name": "python",
   "nbconvert_exporter": "python",
   "pygments_lexer": "ipython3",
   "version": "3.13.5"
  }
 },
 "nbformat": 4,
 "nbformat_minor": 0
}
