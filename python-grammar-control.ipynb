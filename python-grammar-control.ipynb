{
 "cells": [
  {
   "cell_type": "markdown",
   "metadata": {},
   "source": [
    "# 제어문"
   ]
  },
  {
   "cell_type": "markdown",
   "metadata": {},
   "source": [
    "# 1. 조건문"
   ]
  },
  {
   "cell_type": "markdown",
   "metadata": {},
   "source": [
    "## 1) 연산자"
   ]
  },
  {
   "cell_type": "markdown",
   "metadata": {},
   "source": [
    "문제. 나이가 10세 이상이고, 키가 120cm 이상일 때만 놀이기구 탑승\n",
    "\n",
    "* 탑승 가능하면 \"통과\" 아니면 \"탑승 불가\"라고 출력하기"
   ]
  },
  {
   "cell_type": "markdown",
   "metadata": {},
   "source": [
    "문제. 10만원 이상 구매하거나 \"Gold\" 등급이면 10% 할인\n",
    "\n",
    "* 할인이 가능하면 \"10% 할인 가능\" 아니면 \"10% 할인 불가\" 출력"
   ]
  },
  {
   "cell_type": "markdown",
   "metadata": {},
   "source": [
    "## 2) 활용"
   ]
  },
  {
   "cell_type": "markdown",
   "metadata": {},
   "source": [
    "## 4) 예제"
   ]
  },
  {
   "cell_type": "markdown",
   "metadata": {},
   "source": [
    "문제 1. 온도가 15도에서 25도 사이인지 확인하는 예시:"
   ]
  },
  {
   "cell_type": "markdown",
   "metadata": {},
   "source": [
    "문제 2. 학생의 성적에 따른 장학금 여부 결정\n",
    "\n",
    "* GPA가 4.0 이상이면 100% 장학금을 받습니다.\n",
    "* GPA가 3.5 이상이면 50% 장학금을 받습니다.\n",
    "* GPA가 3.0 이상이면 30% 장학금을 받습니다.\n",
    "* 그 외에는 장학금을 받을 수 없습니다."
   ]
  },
  {
   "cell_type": "markdown",
   "metadata": {},
   "source": [
    "문제 3. 특정 단어가 문장에서 없는지 확인\n",
    "\n",
    "* search_word가 text에 포함되지 않으면 해당 단어가 문장에 없다는 메시지를 출력합니다."
   ]
  },
  {
   "cell_type": "markdown",
   "metadata": {},
   "source": [
    "# 2. 반복문"
   ]
  },
  {
   "cell_type": "markdown",
   "metadata": {},
   "source": [
    "## 1) While 문"
   ]
  },
  {
   "cell_type": "markdown",
   "metadata": {},
   "source": [
    "<img src='https://www.dropbox.com/scl/fi/r0815e20gb2hv6a599i00/_-while.png?rlkey=dexzbwy3xu4phnzvo65cb6hbq&st=ykavuhx3&dl=1' width=30%>"
   ]
  },
  {
   "cell_type": "markdown",
   "metadata": {},
   "source": [
    "### (1) 표현"
   ]
  },
  {
   "cell_type": "markdown",
   "metadata": {},
   "source": [
    "### (2) break"
   ]
  },
  {
   "cell_type": "markdown",
   "metadata": {},
   "source": [
    "### (2) continue"
   ]
  },
  {
   "cell_type": "markdown",
   "metadata": {},
   "source": [
    "## 2) For 문"
   ]
  },
  {
   "cell_type": "markdown",
   "metadata": {},
   "source": [
    "<img src='https://www.dropbox.com/scl/fi/eezsh68wobwm87rhh7209/_-for.png?rlkey=w1mhrm40cg413ajdajix0bb9m&st=ptyurj6a&dl=1' width='30%'>"
   ]
  },
  {
   "cell_type": "markdown",
   "metadata": {},
   "source": [
    "### (1) 표현"
   ]
  },
  {
   "cell_type": "markdown",
   "metadata": {},
   "source": [
    "### (2) 관련 주요 함수"
   ]
  },
  {
   "cell_type": "markdown",
   "metadata": {},
   "source": [
    "### (3) break/continue"
   ]
  },
  {
   "cell_type": "markdown",
   "metadata": {},
   "source": [
    "#### break"
   ]
  },
  {
   "cell_type": "markdown",
   "metadata": {},
   "source": [
    "#### continue"
   ]
  },
  {
   "cell_type": "markdown",
   "metadata": {},
   "source": [
    "### (4) 활용"
   ]
  },
  {
   "cell_type": "markdown",
   "metadata": {},
   "source": [
    "## 3) 예제"
   ]
  },
  {
   "cell_type": "markdown",
   "metadata": {},
   "source": [
    "예제1. 학생 성적 딕셔너리\n",
    "\n",
    "반복문을 사용해서 \"홍길동님의 성적은 85점입니다\" 형태로 출력하세요.\n",
    "\n",
    "```\n",
    "grades = {\n",
    "    \"John\": 85,\n",
    "    \"Emily\": 92,\n",
    "    \"Tom\": 78,\n",
    "    \"Lucy\": 88\n",
    "}\n",
    "```"
   ]
  },
  {
   "cell_type": "markdown",
   "metadata": {},
   "source": [
    "예제2. 센서 온도 데이터\n",
    "\n",
    "30도 이상인 데이터만 출력하세요\n",
    "\n",
    "```\n",
    "temperature_data = [22.5, 35.2, 28.4, 40.1, 25.3]\n",
    "```"
   ]
  },
  {
   "cell_type": "markdown",
   "metadata": {},
   "source": [
    "예제 3. 고객 주문 데이터\n",
    "\n",
    "반복문을 사용해서 총 매출을 계산하세요.\n",
    "\n",
    "```\n",
    "orders = [\n",
    "    {\"customer\": \"Kim\", \"amount\": 120000},\n",
    "    {\"customer\": \"Lee\", \"amount\": 85000},\n",
    "    {\"customer\": \"Park\", \"amount\": 99000},\n",
    "]\n",
    "```"
   ]
  },
  {
   "cell_type": "markdown",
   "metadata": {},
   "source": [
    "예제 4. 리뷰 데이터\n",
    "\n",
    "짜장면이 언급된 데이터만 출력하세요\n",
    "\n",
    "```\n",
    "reviews = [\n",
    "    \"맛있어요! 짜장면 최고예요!\",\n",
    "    \"배달이 느렸지만 짬뽕은 맛있었어요.\",\n",
    "    \"탕수육은 별로였지만 전체적으로 만족!\",\n",
    "    \"짜장면이 너무 짰어요.\",\n",
    "]\n",
    "```"
   ]
  },
  {
   "cell_type": "markdown",
   "metadata": {},
   "source": [
    "## 4) List Comprehension"
   ]
  }
 ],
 "metadata": {
  "kernelspec": {
   "display_name": "wanted",
   "language": "python",
   "name": "python3"
  },
  "language_info": {
   "codemirror_mode": {
    "name": "ipython",
    "version": 3
   },
   "file_extension": ".py",
   "mimetype": "text/x-python",
   "name": "python",
   "nbconvert_exporter": "python",
   "pygments_lexer": "ipython3",
   "version": "3.11.10"
  }
 },
 "nbformat": 4,
 "nbformat_minor": 2
}
