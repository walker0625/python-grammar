{
 "cells": [
  {
   "cell_type": "markdown",
   "metadata": {},
   "source": [
    "# 제어문"
   ]
  },
  {
   "cell_type": "markdown",
   "metadata": {},
   "source": [
    "# 1. 조건문"
   ]
  },
  {
   "cell_type": "code",
   "execution_count": 27,
   "metadata": {},
   "outputs": [
    {
     "name": "stdout",
     "output_type": "stream",
     "text": [
      "not adult\n",
      "Best\n",
      "exist\n"
     ]
    }
   ],
   "source": [
    "# P1\n",
    "\n",
    "age = 15\n",
    "\n",
    "if age >= 19:\n",
    "    print('adult')\n",
    "else:\n",
    "    print('not adult')    \n",
    "\n",
    "# P2\n",
    "\n",
    "grade = 'A'\n",
    "\n",
    "if grade == 'A':\n",
    "    print('Best')\n",
    "elif grade == 'B':\n",
    "    print('Good')    \n",
    "else:\n",
    "    print('Soso')\n",
    "\n",
    "# 문자열 내의 char 검색 \n",
    "\n",
    "txt = 'abcde'\n",
    "\n",
    "if 'a' in txt:\n",
    "    print('exist')"
   ]
  },
  {
   "cell_type": "markdown",
   "metadata": {},
   "source": [
    "## 1) 연산자"
   ]
  },
  {
   "cell_type": "markdown",
   "metadata": {},
   "source": [
    "문제. 나이가 10세 이상이고, 키가 120cm 이상일 때만 놀이기구 탑승\n",
    "\n",
    "* 탑승 가능하면 \"통과\" 아니면 \"탑승 불가\"라고 출력하기"
   ]
  },
  {
   "cell_type": "code",
   "execution_count": null,
   "metadata": {},
   "outputs": [
    {
     "name": "stdout",
     "output_type": "stream",
     "text": [
      "통과\n",
      "통과\n",
      "True\n",
      "False\n",
      "<class 'int'>\n"
     ]
    }
   ],
   "source": [
    "age = 20\n",
    "height = 180\n",
    "\n",
    "if age >= 10 and height >= 120: \n",
    "    print('통과')\n",
    "else: \n",
    "    print('탑승 불가')\n",
    "\n",
    "#파이썬 연산자의 우선순위(&가 비교 연산자보다 먼저)\n",
    "\n",
    "# 괄호: () (가장 높은 우선순위)\n",
    "# 거듭제곱: **\n",
    "# 단항 연산자: +, -, ~, not\n",
    "# 곱셈과 나눗셈: *, /, //, %\n",
    "# 덧셈과 뺄셈: +, -\n",
    "# 비트 시프트 연산자: <<, >>\n",
    "\n",
    "# 비트 논리 연산자: &, |, ^\n",
    "# 비교 연산자: ==, !=, <, >, <= , >=\n",
    "\n",
    "# 논리 연산자: and, or, not\n",
    "# 할당 연산자: =, +=, -=, *=, /=, %=, **=, //=\n",
    "\n",
    "\n",
    "# java 연산자의 우선 순위(비교 연산자가 &보다 먼저)\n",
    "\n",
    "# 괄호 ()\n",
    "# 단항 연산자 +, -, ~, !\n",
    "# 곱셈과 나눗셈 *, /, %\n",
    "# 덧셈과 뺄셈 +, -\n",
    "# 비트 시프트 연산자 <<, >>\n",
    "\n",
    "# 비교 연산자 ==, !=, <, >, <= , >=\n",
    "# 논리 연산자 &, |, ^\n",
    "\n",
    "# 할당 연산자 =, +=, -=, *=, /=, %= 등\n",
    "\n",
    "if (age >= 10) & (height >= 120): # 괄호가 없으면 우선순위 문제로 '탑승 불가가 됨'\n",
    "    print('통과')\n",
    "else: \n",
    "    print('탑승 불가')\n",
    "\n",
    "print((age >= 10) & (height >= 120)) # True\n",
    "\n",
    "# python 연산의 순서\n",
    "# 1. 10 & height\n",
    "# 2. age >= 1의 결과\n",
    "# 3. 2의 결과 >= 120\n",
    "\n",
    "print(age >= 10 & height >= 120) # False\n",
    "\n",
    "### 결론\n",
    "# 그냥 and를 쓰거나 &을 쓸거면 ()를 사용해라\n"
   ]
  },
  {
   "cell_type": "markdown",
   "metadata": {},
   "source": [
    "문제. 10만원 이상 구매하거나 \"Gold\" 등급이면 10% 할인\n",
    "\n",
    "* 할인이 가능하면 \"10% 할인 가능\" 아니면 \"10% 할인 불가\" 출력"
   ]
  },
  {
   "cell_type": "code",
   "execution_count": 53,
   "metadata": {},
   "outputs": [
    {
     "name": "stdout",
     "output_type": "stream",
     "text": [
      "108000.0\n"
     ]
    }
   ],
   "source": [
    "pay = 120000\n",
    "grade = 'silver'\n",
    "\n",
    "if pay >= 100000 or grade == 'gold':\n",
    "    print(pay * 0.9)\n",
    "else:\n",
    "    print(pay)\n",
    "\n"
   ]
  },
  {
   "cell_type": "markdown",
   "metadata": {},
   "source": [
    "## 2) 활용"
   ]
  },
  {
   "cell_type": "markdown",
   "metadata": {},
   "source": [
    "##### 지갑 안에 운전면허증이 있다면 통과이고 없으면 벌금이다. \n",
    "##### 만약 벌금을 납부하게 되면 지갑에 카드가 있으면 카드 결제이고 아니면 현금 납부이다. \n",
    "##### 이 사람은 어떻게 해야 하는가?"
   ]
  },
  {
   "cell_type": "code",
   "execution_count": 59,
   "metadata": {},
   "outputs": [
    {
     "name": "stdout",
     "output_type": "stream",
     "text": [
      "pay card\n"
     ]
    }
   ],
   "source": [
    "wallet = [\"card\", \"trash\"]\n",
    "\n",
    "if 'lisence' not in wallet:\n",
    "    if 'card' in wallet:\n",
    "        print('pay card')\n",
    "    elif 'cash' in wallet:\n",
    "        print('pay cash')\n",
    "    else:\n",
    "        print('go to jail')\n",
    "else:\n",
    "    print('thank you sir')                "
   ]
  },
  {
   "cell_type": "code",
   "execution_count": 2,
   "metadata": {},
   "outputs": [
    {
     "name": "stdout",
     "output_type": "stream",
     "text": [
      "[['#헬스', '#단백질'], ['#닭가슴살', '#다이어트', '#단백질'], ['#요요', '#헬스', '#다이어트'], ['#닭가슴살', '#단백질']]\n",
      "['#헬스', '#단백질', '#닭가슴살', '#다이어트', '#단백질', '#요요', '#헬스', '#다이어트', '#닭가슴살', '#단백질']\n",
      "5\n"
     ]
    }
   ],
   "source": [
    "# * append / extend 차이 알기\n",
    "\n",
    "# 인스타그램 태그 수집기 \n",
    "\n",
    "# post1 : #헬스, #단백질\n",
    "# post2 : #닭가슴살, #다이어트, #단백질\n",
    "# post3 : #요요, #헬스, #다이어트\n",
    "# post4 : #닭가슴살, #단백질\n",
    "\n",
    "# 문제 1. 인스타그램 포스트별로 데이터를 수집하고 싶다\n",
    "# 문제 2. 모든 해시태그들을 tags라는 변수에 담고 싶다\n",
    "# 문제 3. 해시태그 카테고리가 몇 개인지 알고 싶다\n",
    "\n",
    "post1 = ['#헬스', '#단백질']\n",
    "post2 = ['#닭가슴살', '#다이어트', '#단백질']\n",
    "post3 = ['#요요', '#헬스', '#다이어트']\n",
    "post4 = ['#닭가슴살', '#단백질']\n",
    "\n",
    "posts = [post1, post2, post3, post4]\n",
    "tags = []\n",
    "tags_set = []\n",
    "\n",
    "# p1\n",
    "for post in posts:\n",
    "    tags.append(post)\n",
    "\n",
    "print(tags)\n",
    "\n",
    "# p2\n",
    "for post in posts:\n",
    "    tags_set.extend(post)\n",
    "\n",
    "print(tags_set)\n",
    "\n",
    "# p3\n",
    "set_tags = set(tags_set)\n",
    "print(len(set_tags))"
   ]
  },
  {
   "cell_type": "markdown",
   "metadata": {},
   "source": [
    "## 4) 예제"
   ]
  },
  {
   "cell_type": "markdown",
   "metadata": {},
   "source": [
    "문제 1. 온도가 15도에서 25도 사이인지 확인하는 예시:"
   ]
  },
  {
   "cell_type": "code",
   "execution_count": null,
   "metadata": {},
   "outputs": [
    {
     "name": "stdout",
     "output_type": "stream",
     "text": [
      "warm\n"
     ]
    }
   ],
   "source": [
    "temper = 20\n",
    "\n",
    "if temper > 15 and temper < 25:\n",
    "    print('warm')"
   ]
  },
  {
   "cell_type": "markdown",
   "metadata": {},
   "source": [
    "문제 2. 학생의 성적에 따른 장학금 여부 결정\n",
    "\n",
    "* GPA가 4.0 이상이면 100% 장학금을 받습니다.\n",
    "* GPA가 3.5 이상이면 50% 장학금을 받습니다.\n",
    "* GPA가 3.0 이상이면 30% 장학금을 받습니다.\n",
    "* 그 외에는 장학금을 받을 수 없습니다."
   ]
  },
  {
   "cell_type": "code",
   "execution_count": 7,
   "metadata": {},
   "outputs": [
    {
     "name": "stdout",
     "output_type": "stream",
     "text": [
      "50%\n"
     ]
    }
   ],
   "source": [
    "gpa = 3.7\n",
    "\n",
    "if gpa >= 4.0:\n",
    "    print('100%')\n",
    "elif gpa >= 3.5:\n",
    "    print('50%')\n",
    "elif gpa >= 3.0:\n",
    "    print('30%')    \n",
    "else: \n",
    "    print('try again')    "
   ]
  },
  {
   "cell_type": "markdown",
   "metadata": {},
   "source": [
    "문제 3. 특정 단어가 문장에서 없는지 확인\n",
    "\n",
    "* search_word가 text에 포함되지 않으면 해당 단어가 문장에 없다는 메시지를 출력합니다."
   ]
  },
  {
   "cell_type": "code",
   "execution_count": 12,
   "metadata": {},
   "outputs": [
    {
     "name": "stdout",
     "output_type": "stream",
     "text": [
      "none exist\n"
     ]
    }
   ],
   "source": [
    "text = 'abcdefg'\n",
    "search_word = 'ko'\n",
    "\n",
    "if search_word not in text:\n",
    "    print('none exist')\n",
    "else: \n",
    "    print('exist')    "
   ]
  },
  {
   "cell_type": "markdown",
   "metadata": {},
   "source": [
    "# 2. 반복문"
   ]
  },
  {
   "cell_type": "markdown",
   "metadata": {},
   "source": [
    "## 1) While 문"
   ]
  },
  {
   "cell_type": "markdown",
   "metadata": {},
   "source": [
    "<img src='https://www.dropbox.com/scl/fi/r0815e20gb2hv6a599i00/_-while.png?rlkey=dexzbwy3xu4phnzvo65cb6hbq&st=ykavuhx3&dl=1' width=30%>"
   ]
  },
  {
   "cell_type": "markdown",
   "metadata": {},
   "source": [
    "### (1) 표현"
   ]
  },
  {
   "cell_type": "code",
   "execution_count": 16,
   "metadata": {},
   "outputs": [
    {
     "name": "stdout",
     "output_type": "stream",
     "text": [
      "1\n",
      "2\n",
      "3\n",
      "4\n",
      "5\n",
      "6\n",
      "7\n",
      "8\n",
      "9\n",
      "10\n"
     ]
    }
   ],
   "source": [
    "count = 1\n",
    "\n",
    "while count < 11:\n",
    "    print(count)\n",
    "    count += 1"
   ]
  },
  {
   "cell_type": "markdown",
   "metadata": {},
   "source": [
    "### (2) break"
   ]
  },
  {
   "cell_type": "code",
   "execution_count": 6,
   "metadata": {},
   "outputs": [
    {
     "name": "stdout",
     "output_type": "stream",
     "text": [
      "1\n",
      "2\n",
      "3\n",
      "4\n",
      "5\n",
      "1\n",
      "2\n",
      "3\n",
      "4\n",
      "5\n"
     ]
    }
   ],
   "source": [
    "count = 1\n",
    "\n",
    "while True:\n",
    "\n",
    "    if count > 5: \n",
    "        break\n",
    "\n",
    "    print(count)\n",
    "    count += 1  \n",
    "\n",
    "count = 1\n",
    "\n",
    "while True:\n",
    "\n",
    "    print(count)\n",
    "    count += 1  \n",
    "\n",
    "    if count > 5: \n",
    "        break"
   ]
  },
  {
   "cell_type": "markdown",
   "metadata": {},
   "source": [
    "### (2) continue"
   ]
  },
  {
   "cell_type": "code",
   "execution_count": 14,
   "metadata": {},
   "outputs": [
    {
     "name": "stdout",
     "output_type": "stream",
     "text": [
      "1\n",
      "3\n",
      "5\n",
      "7\n",
      "9\n"
     ]
    }
   ],
   "source": [
    "count = 0\n",
    "\n",
    "while count < 10:\n",
    "    \n",
    "    count += 1\n",
    "    \n",
    "    if count % 2 == 0:\n",
    "        continue\n",
    "\n",
    "    print(count)    "
   ]
  },
  {
   "cell_type": "markdown",
   "metadata": {},
   "source": [
    "## 2) For 문"
   ]
  },
  {
   "cell_type": "markdown",
   "metadata": {},
   "source": [
    "<img src='https://www.dropbox.com/scl/fi/eezsh68wobwm87rhh7209/_-for.png?rlkey=w1mhrm40cg413ajdajix0bb9m&st=ptyurj6a&dl=1' width='30%'>"
   ]
  },
  {
   "cell_type": "markdown",
   "metadata": {},
   "source": [
    "### (1) 표현"
   ]
  },
  {
   "cell_type": "code",
   "execution_count": 16,
   "metadata": {},
   "outputs": [
    {
     "name": "stdout",
     "output_type": "stream",
     "text": [
      "1\n",
      "2\n",
      "3\n",
      "4\n",
      "5\n"
     ]
    }
   ],
   "source": [
    "num_list = [1,2,3,4,5]\n",
    "\n",
    "for num in num_list:\n",
    "    print(num)"
   ]
  },
  {
   "cell_type": "markdown",
   "metadata": {},
   "source": [
    "### (2) 관련 주요 함수"
   ]
  },
  {
   "cell_type": "code",
   "execution_count": 24,
   "metadata": {},
   "outputs": [
    {
     "name": "stdout",
     "output_type": "stream",
     "text": [
      "1\n",
      "2\n",
      "3\n",
      "4\n",
      "5\n"
     ]
    }
   ],
   "source": [
    "for n in range(1, 6):\n",
    "    print(n)"
   ]
  },
  {
   "cell_type": "code",
   "execution_count": 35,
   "metadata": {},
   "outputs": [
    {
     "name": "stdout",
     "output_type": "stream",
     "text": [
      "0 홍길동\n",
      "1 김철수\n",
      "2 한유리\n",
      "3 정성우\n",
      "(0, '홍길동')\n",
      "(1, '김철수')\n",
      "(2, '한유리')\n",
      "(3, '정성우')\n",
      "0 홍길동\n",
      "1 김철수\n",
      "2 한유리\n",
      "3 정성우\n"
     ]
    }
   ],
   "source": [
    "students = [\"홍길동\", \"김철수\", \"한유리\", \"정성우\"]\n",
    "\n",
    "for i in range(len(students)): # index 활용\n",
    "    print(i, students[i]) \n",
    "\n",
    "for s in enumerate(students):\n",
    "    print(s) # tuple (0, '홍길동')\n",
    "\n",
    "for i, s in enumerate(students):\n",
    "    print(i, s) # value 0 홍길동"
   ]
  },
  {
   "cell_type": "markdown",
   "metadata": {},
   "source": [
    "### (3) break/continue"
   ]
  },
  {
   "cell_type": "markdown",
   "metadata": {},
   "source": [
    "#### break"
   ]
  },
  {
   "cell_type": "code",
   "execution_count": 69,
   "metadata": {},
   "outputs": [
    {
     "name": "stdout",
     "output_type": "stream",
     "text": [
      "1\n",
      "2\n",
      "3\n",
      "4\n",
      "5\n",
      "6\n",
      "7\n"
     ]
    }
   ],
   "source": [
    "for i in range(1, 11):\n",
    "    print(i)\n",
    "    if i ==7:\n",
    "        break"
   ]
  },
  {
   "cell_type": "markdown",
   "metadata": {},
   "source": [
    "#### continue"
   ]
  },
  {
   "cell_type": "code",
   "execution_count": null,
   "metadata": {},
   "outputs": [
    {
     "name": "stdout",
     "output_type": "stream",
     "text": [
      "1\n",
      "2\n",
      "3\n",
      "4\n",
      "6\n",
      "7\n",
      "8\n",
      "9\n",
      "10\n"
     ]
    }
   ],
   "source": [
    "for i in range(1, 11):\n",
    "    if i == 5:\n",
    "        continue\n",
    "    print(i)"
   ]
  },
  {
   "cell_type": "markdown",
   "metadata": {},
   "source": [
    "### (4) 활용"
   ]
  },
  {
   "cell_type": "markdown",
   "metadata": {},
   "source": [
    "## 3) 예제"
   ]
  },
  {
   "cell_type": "markdown",
   "metadata": {},
   "source": [
    "예제1. 학생 성적 딕셔너리\n",
    "\n",
    "반복문을 사용해서 \"홍길동님의 성적은 85점입니다\" 형태로 출력하세요.\n",
    "\n",
    "```\n",
    "grades = {\n",
    "    \"John\": 85,\n",
    "    \"Emily\": 92,\n",
    "    \"Tom\": 78,\n",
    "    \"Lucy\": 88\n",
    "}\n",
    "```"
   ]
  },
  {
   "cell_type": "code",
   "execution_count": null,
   "metadata": {},
   "outputs": [
    {
     "name": "stdout",
     "output_type": "stream",
     "text": [
      "John\n",
      "Emily\n",
      "Tom\n",
      "Lucy\n",
      "John님의 성적은 85점입니다\n",
      "Emily님의 성적은 92점입니다\n",
      "Tom님의 성적은 78점입니다\n",
      "Lucy님의 성적은 88점입니다\n",
      "John님의 성적은 85점입니다\n",
      "Emily님의 성적은 92점입니다\n",
      "Tom님의 성적은 78점입니다\n",
      "Lucy님의 성적은 88점입니다\n",
      "John님의 성적은 85점입니다\n",
      "Emily님의 성적은 92점입니다\n",
      "Tom님의 성적은 78점입니다\n",
      "Lucy님의 성적은 88점입니다\n",
      "John님의 성적은 85점입니다\n",
      "Emily님의 성적은 92점입니다\n",
      "Tom님의 성적은 78점입니다\n",
      "Lucy님의 성적은 88점입니다\n",
      "홍길동님의 성적은 10점입니다\n",
      "김철수님의 성적은 20점입니다\n",
      "한유리님의 성적은 30점입니다\n",
      "정성우님의 성적은 40점입니다\n"
     ]
    }
   ],
   "source": [
    "grades = {\n",
    "    \"John\": 85,\n",
    "    \"Emily\": 92,\n",
    "    \"Tom\": 78,\n",
    "    \"Lucy\": 88\n",
    "}\n",
    "\n",
    "for key in grades: # dic은 key만 roof 됨\n",
    "    print(key)\n",
    "\n",
    "for key in grades.keys():\n",
    "    print(key, '님의 성적은 ', grades[key], '점입니다', sep='')\n",
    "\n",
    "for item in grades.items():\n",
    "    print(item[0] + '님의 성적은 ' + str(item[1]) + '점입니다')\n",
    "\n",
    "for item in grades.items():\n",
    "    print(f'{item[0]}님의 성적은 {item[1]}점입니다')\n",
    "\n",
    "for name, score in grades.items():\n",
    "    print(f'{name}님의 성적은 {score}점입니다')\n",
    "\n",
    "\n",
    "# zip - 두개의 배열 합칠 때 : 갯수가 맞아야 하는 것 주의\n",
    "\n",
    "students = [\"홍길동\", \"김철수\", \"한유리\", \"정성우\"]\n",
    "score = [10, 20, 30, 40]\n",
    "\n",
    "for name, score in zip(students, score):\n",
    "    print(f'{name}님의 성적은 {score}점입니다')"
   ]
  },
  {
   "cell_type": "markdown",
   "metadata": {},
   "source": [
    "예제2. 센서 온도 데이터\n",
    "\n",
    "30도 이상인 데이터만 출력하세요\n",
    "\n",
    "```\n",
    "temperature_data = [22.5, 35.2, 28.4, 40.1, 25.3]\n",
    "```"
   ]
  },
  {
   "cell_type": "markdown",
   "metadata": {},
   "source": [
    "예제 3. 고객 주문 데이터\n",
    "\n",
    "반복문을 사용해서 총 매출을 계산하세요.\n",
    "\n",
    "```\n",
    "orders = [\n",
    "    {\"customer\": \"Kim\", \"amount\": 120000},\n",
    "    {\"customer\": \"Lee\", \"amount\": 85000},\n",
    "    {\"customer\": \"Park\", \"amount\": 99000},\n",
    "]\n",
    "```"
   ]
  },
  {
   "cell_type": "markdown",
   "metadata": {},
   "source": [
    "예제 4. 리뷰 데이터\n",
    "\n",
    "짜장면이 언급된 데이터만 출력하세요\n",
    "\n",
    "```\n",
    "reviews = [\n",
    "    \"맛있어요! 짜장면 최고예요!\",\n",
    "    \"배달이 느렸지만 짬뽕은 맛있었어요.\",\n",
    "    \"탕수육은 별로였지만 전체적으로 만족!\",\n",
    "    \"짜장면이 너무 짰어요.\",\n",
    "]\n",
    "```"
   ]
  },
  {
   "cell_type": "markdown",
   "metadata": {},
   "source": [
    "## 4) List Comprehension"
   ]
  },
  {
   "cell_type": "code",
   "execution_count": 75,
   "metadata": {},
   "outputs": [
    {
     "name": "stdout",
     "output_type": "stream",
     "text": [
      "[1, 2, 3, 4, 5, 6, 7, 8, 9, 10]\n"
     ]
    }
   ],
   "source": [
    "nums = [num for num in range(1, 11)]\n",
    "print(nums)"
   ]
  },
  {
   "cell_type": "code",
   "execution_count": null,
   "metadata": {},
   "outputs": [
    {
     "name": "stdout",
     "output_type": "stream",
     "text": [
      "[2, 4, 6, 8, 10]\n"
     ]
    }
   ],
   "source": [
    "nums = [num for num in range(1, 11) if num % 2 == 0]\n",
    "print(nums)"
   ]
  }
 ],
 "metadata": {
  "kernelspec": {
   "display_name": "python-grammar",
   "language": "python",
   "name": "python3"
  },
  "language_info": {
   "codemirror_mode": {
    "name": "ipython",
    "version": 3
   },
   "file_extension": ".py",
   "mimetype": "text/x-python",
   "name": "python",
   "nbconvert_exporter": "python",
   "pygments_lexer": "ipython3",
   "version": "3.13.5"
  }
 },
 "nbformat": 4,
 "nbformat_minor": 2
}
